{
 "cells": [
  {
   "cell_type": "markdown",
   "metadata": {},
   "source": [
    "# Импорт библиотек"
   ]
  },
  {
   "cell_type": "code",
   "execution_count": 1,
   "metadata": {},
   "outputs": [],
   "source": [
    "from pyspark.sql import functions as f\n",
    "from pyspark.sql import types as t"
   ]
  },
  {
   "cell_type": "markdown",
   "metadata": {},
   "source": [
    "# Создание сессии Spark"
   ]
  },
  {
   "cell_type": "code",
   "execution_count": 2,
   "metadata": {},
   "outputs": [],
   "source": [
    "from pyspark.sql import SparkSession\n",
    "spark = SparkSession.builder.appName('simple_app').master('local[*]').getOrCreate()"
   ]
  },
  {
   "cell_type": "markdown",
   "metadata": {},
   "source": [
    "# Работа с данными"
   ]
  },
  {
   "cell_type": "code",
   "execution_count": 4,
   "metadata": {},
   "outputs": [],
   "source": [
    "df = spark.read.format('csv').option('inferSchema', 'true').option('header', 'true').load('../data/clients.csv')"
   ]
  },
  {
   "cell_type": "code",
   "execution_count": 5,
   "metadata": {},
   "outputs": [
    {
     "name": "stdout",
     "output_type": "stream",
     "text": [
      "root\n",
      " |-- id: integer (nullable = true)\n",
      " |-- fullname: string (nullable = true)\n",
      " |-- address: string (nullable = true)\n",
      " |-- phone_number: string (nullable = true)\n",
      " |-- email: string (nullable = true)\n",
      " |-- workplace: string (nullable = true)\n",
      " |-- birthdate: timestamp (nullable = true)\n",
      " |-- registration_date: timestamp (nullable = true)\n",
      " |-- gender: string (nullable = true)\n",
      " |-- income: integer (nullable = true)\n",
      " |-- expenses: integer (nullable = true)\n",
      " |-- credit: integer (nullable = true)\n",
      " |-- deposit: integer (nullable = true)\n",
      "\n"
     ]
    }
   ],
   "source": [
    "df.printSchema()"
   ]
  },
  {
   "cell_type": "code",
   "execution_count": 6,
   "metadata": {},
   "outputs": [
    {
     "name": "stdout",
     "output_type": "stream",
     "text": [
      "+---+--------------------+--------------------+------------------+--------------------+--------------------+-------------------+-------------------+------+------+--------+------+-------+\n",
      "| id|            fullname|             address|      phone_number|               email|           workplace|          birthdate|  registration_date|gender|income|expenses|credit|deposit|\n",
      "+---+--------------------+--------------------+------------------+--------------------+--------------------+-------------------+-------------------+------+------+--------+------+-------+\n",
      "|  1|Волкова Фаина Афа...|с. Новосибирск, н...|  8 (475) 014-6494|wkirillov@rambler.ru|ст. Кировск (Мурм...|1966-09-07 00:00:00|2017-01-10 00:00:00|     F|230910|   61975|     1|   null|\n",
      "|  2|Пелагея Вячеславо...|клх Белокуриха, ш...| +7 (981) 576-1146|bogdanovmoke@ramb...|г. Елабуга, бул. ...|1987-05-23 00:00:00|2016-07-14 00:00:00|     F|  null|   75232|  null|   null|\n",
      "|  3|Валентина Игоревн...|к. Усть-Катав, бу...|+7 (920) 068-58-36|mjasnikovvalentin...|г. Сосновый Бор, ...|1974-06-15 00:00:00|2017-10-18 00:00:00|     F|  null|   88813|  null|   null|\n",
      "|  4|тов. Воронцова Фё...|клх Новая Игирма,...|    8 334 398 3828| martin85@rambler.ru|клх Котельнич, бу...|1979-10-19 00:00:00|2012-08-25 00:00:00|     F|  null|   55167|  null|   null|\n",
      "|  5|Филипп Дмитриевич...|к. Ребриха, пр. С...|  8 (296) 455-0453|   jan_07@rambler.ru|клх Карабудахкент...|1986-08-14 00:00:00|2017-03-15 00:00:00|     M|  null|   85106|  null|   null|\n",
      "|  6|Агафья Васильевна...|п. Звенигород, ул...|+7 (540) 539-43-82| vdementev@yandex.ru|п. Чегем, алл. То...|1961-05-12 00:00:00|2012-05-21 00:00:00|     F|  null|   81297|  null|      1|\n",
      "|  7|Кириллова Акулина...|ст. Черкесск, алл...|      +71375862125|pavel_1976@yandex.ru|с. Курильск, алл....|1983-08-19 00:00:00|2013-07-17 00:00:00|     F|268939|   82437|     1|   null|\n",
      "|  8|Блинова Прасковья...|ст. Чикола, ул. И...|      +74612028488|cheslav_2008@yand...|к. Крымск, пер. М...|1972-07-31 00:00:00|2017-09-08 00:00:00|     F|274911|  115064|     1|      1|\n",
      "|  9|Агафья Болеславов...|ст. Эльбрус, пр. ...|   8 505 777 79 67|   lev1991@yahoo.com|д. Новороссийка, ...|1971-01-29 00:00:00|2019-11-16 00:00:00|     F|  null|   92193|  null|      1|\n",
      "| 10|Дмитрий Анисимови...|п. Игнашино, наб....|  +7 592 074 68 81|samolovauljana@ya...|д. Южно-Курильск,...|1988-06-27 00:00:00|2016-11-26 00:00:00|     M|  null|   82715|  null|   null|\n",
      "| 11|Зиновьев Потап Еф...|ст. Сыктывкар, пр...|      +79840547664|nesterovavarvara@...|к. Бодайбо, наб. ...|1997-12-02 00:00:00|2016-10-03 00:00:00|     M|186665|   89374|     1|      1|\n",
      "| 12|Баранов Осип Вале...|д. Ульяновск, алл...|  8 (890) 513-9089|shashkovavalentin...|с. Юрьев-Польский...|1965-03-09 00:00:00|2015-02-18 00:00:00|     M|  null|   73605|  null|      1|\n",
      "| 13|Зимин Кирилл Исид...|клх Кежма, ш. Гер...|       81105600267|merkushevemeljan@...|ст. Иркутск, бул....|1991-01-03 00:00:00|2019-06-10 00:00:00|     M|  null|   79226|  null|   null|\n",
      "| 14|Тарасов Евстафий ...|г. Кропоткин (Кра...| +7 (323) 165-6325|tverdislav1994@ma...|клх Кетченеры, ал...|1994-06-09 00:00:00|2018-10-11 00:00:00|     M|  null|   86702|  null|      1|\n",
      "| 15|Гурьев Эммануил Б...|ст. Магнитогорск,...|  8 (416) 398-3199|milen_1974@hotmai...|ст. Улан-Удэ, алл...|1961-09-01 00:00:00|2012-12-10 00:00:00|     M|108010|   86031|     1|   null|\n",
      "| 16|г-н Шарапов Никан...|г. Усть-Калманка,...|       89011984011|ckalashnikova@ram...|д. Кашира, ш. Спе...|1995-02-07 00:00:00|2017-11-17 00:00:00|     M|  null|   85063|  null|      1|\n",
      "| 17|Дроздов Викентий ...|д. Тутаев, ш. Яро...|  8 (373) 135-7441|rogovamarfa@gmail...|к. Энгельс, пер. ...|1972-03-08 00:00:00|2014-02-14 00:00:00|     M|  null|   56463|  null|   null|\n",
      "| 18|Зоя Никифоровна С...|п. Моршанск, бул....|    8 446 399 2976|timofeevevdokim@y...|с. Ногинск (Моск....|1972-06-16 00:00:00|2015-05-06 00:00:00|     F|  null|   75635|  null|      1|\n",
      "| 19|Клавдия Феликсовн...|д. Тихвин, бул. Т...|   +7 977 432 6073|nikiforkabanov@ra...|д. Белогорск (Аму...|1972-09-30 00:00:00|2014-10-07 00:00:00|     F|224368|   77545|     1|   null|\n",
      "| 20|Агата Ефимовна Ко...|с. Калач-на-Дону,...|       82167746073|   flukina@yandex.ru|д. Владивосток, ш...|1970-10-13 00:00:00|2019-04-11 00:00:00|     F|  null|   75361|  null|   null|\n",
      "+---+--------------------+--------------------+------------------+--------------------+--------------------+-------------------+-------------------+------+------+--------+------+-------+\n",
      "only showing top 20 rows\n",
      "\n"
     ]
    }
   ],
   "source": [
    "df.show(20)"
   ]
  },
  {
   "cell_type": "code",
   "execution_count": 7,
   "metadata": {},
   "outputs": [
    {
     "data": {
      "text/plain": [
       "1000"
      ]
     },
     "execution_count": 7,
     "metadata": {},
     "output_type": "execute_result"
    }
   ],
   "source": [
    "df.count()"
   ]
  },
  {
   "cell_type": "code",
   "execution_count": 128,
   "metadata": {},
   "outputs": [],
   "source": [
    "import pandas as pd\n",
    "import numpy as np"
   ]
  },
  {
   "cell_type": "code",
   "execution_count": 129,
   "metadata": {},
   "outputs": [],
   "source": [
    "df = pd.read_csv('../data/transactions.csv')"
   ]
  },
  {
   "cell_type": "code",
   "execution_count": 130,
   "metadata": {},
   "outputs": [
    {
     "data": {
      "text/html": [
       "<div>\n",
       "<style scoped>\n",
       "    .dataframe tbody tr th:only-of-type {\n",
       "        vertical-align: middle;\n",
       "    }\n",
       "\n",
       "    .dataframe tbody tr th {\n",
       "        vertical-align: top;\n",
       "    }\n",
       "\n",
       "    .dataframe thead th {\n",
       "        text-align: right;\n",
       "    }\n",
       "</style>\n",
       "<table border=\"1\" class=\"dataframe\">\n",
       "  <thead>\n",
       "    <tr style=\"text-align: right;\">\n",
       "      <th></th>\n",
       "      <th>count</th>\n",
       "      <th>mean</th>\n",
       "      <th>std</th>\n",
       "      <th>min</th>\n",
       "      <th>25%</th>\n",
       "      <th>50%</th>\n",
       "      <th>75%</th>\n",
       "      <th>max</th>\n",
       "    </tr>\n",
       "  </thead>\n",
       "  <tbody>\n",
       "    <tr>\n",
       "      <th>id</th>\n",
       "      <td>929135.0</td>\n",
       "      <td>464567.000000</td>\n",
       "      <td>268218.315518</td>\n",
       "      <td>0.0</td>\n",
       "      <td>232283.5</td>\n",
       "      <td>464567.0</td>\n",
       "      <td>696850.5</td>\n",
       "      <td>929134.0</td>\n",
       "    </tr>\n",
       "    <tr>\n",
       "      <th>client_id</th>\n",
       "      <td>929135.0</td>\n",
       "      <td>500.573223</td>\n",
       "      <td>288.664178</td>\n",
       "      <td>1.0</td>\n",
       "      <td>251.0</td>\n",
       "      <td>501.0</td>\n",
       "      <td>750.0</td>\n",
       "      <td>1000.0</td>\n",
       "    </tr>\n",
       "    <tr>\n",
       "      <th>product_category</th>\n",
       "      <td>929135.0</td>\n",
       "      <td>9.348996</td>\n",
       "      <td>7.495062</td>\n",
       "      <td>1.0</td>\n",
       "      <td>5.0</td>\n",
       "      <td>6.0</td>\n",
       "      <td>11.0</td>\n",
       "      <td>29.0</td>\n",
       "    </tr>\n",
       "    <tr>\n",
       "      <th>amount</th>\n",
       "      <td>929135.0</td>\n",
       "      <td>1143.750824</td>\n",
       "      <td>3948.343863</td>\n",
       "      <td>50.0</td>\n",
       "      <td>83.0</td>\n",
       "      <td>347.0</td>\n",
       "      <td>1042.0</td>\n",
       "      <td>149891.0</td>\n",
       "    </tr>\n",
       "  </tbody>\n",
       "</table>\n",
       "</div>"
      ],
      "text/plain": [
       "                     count           mean            std   min       25%  \\\n",
       "id                929135.0  464567.000000  268218.315518   0.0  232283.5   \n",
       "client_id         929135.0     500.573223     288.664178   1.0     251.0   \n",
       "product_category  929135.0       9.348996       7.495062   1.0       5.0   \n",
       "amount            929135.0    1143.750824    3948.343863  50.0      83.0   \n",
       "\n",
       "                       50%       75%       max  \n",
       "id                464567.0  696850.5  929134.0  \n",
       "client_id            501.0     750.0    1000.0  \n",
       "product_category       6.0      11.0      29.0  \n",
       "amount               347.0    1042.0  149891.0  "
      ]
     },
     "execution_count": 130,
     "metadata": {},
     "output_type": "execute_result"
    }
   ],
   "source": [
    "df.describe().T"
   ]
  },
  {
   "cell_type": "code",
   "execution_count": 131,
   "metadata": {},
   "outputs": [
    {
     "data": {
      "text/html": [
       "<div>\n",
       "<style scoped>\n",
       "    .dataframe tbody tr th:only-of-type {\n",
       "        vertical-align: middle;\n",
       "    }\n",
       "\n",
       "    .dataframe tbody tr th {\n",
       "        vertical-align: top;\n",
       "    }\n",
       "\n",
       "    .dataframe thead th {\n",
       "        text-align: right;\n",
       "    }\n",
       "</style>\n",
       "<table border=\"1\" class=\"dataframe\">\n",
       "  <thead>\n",
       "    <tr style=\"text-align: right;\">\n",
       "      <th></th>\n",
       "      <th>id</th>\n",
       "      <th>client_id</th>\n",
       "      <th>product_category</th>\n",
       "      <th>product_company</th>\n",
       "      <th>subtype</th>\n",
       "      <th>amount</th>\n",
       "      <th>date</th>\n",
       "      <th>transaction_type</th>\n",
       "    </tr>\n",
       "  </thead>\n",
       "  <tbody>\n",
       "    <tr>\n",
       "      <th>0</th>\n",
       "      <td>34478</td>\n",
       "      <td>37</td>\n",
       "      <td>29</td>\n",
       "      <td>NaN</td>\n",
       "      <td>Автоплатеж</td>\n",
       "      <td>1209</td>\n",
       "      <td>2020-01-01 00:00:00</td>\n",
       "      <td>Negative</td>\n",
       "    </tr>\n",
       "  </tbody>\n",
       "</table>\n",
       "</div>"
      ],
      "text/plain": [
       "      id  client_id  product_category product_company     subtype  amount  \\\n",
       "0  34478         37                29             NaN  Автоплатеж    1209   \n",
       "\n",
       "                  date transaction_type  \n",
       "0  2020-01-01 00:00:00         Negative  "
      ]
     },
     "execution_count": 131,
     "metadata": {},
     "output_type": "execute_result"
    }
   ],
   "source": [
    "df.head(1)"
   ]
  },
  {
   "cell_type": "code",
   "execution_count": 132,
   "metadata": {},
   "outputs": [],
   "source": [
    "df.loc[:, 'date'] = pd.to_datetime(df.loc[:, 'date'])"
   ]
  },
  {
   "cell_type": "code",
   "execution_count": 133,
   "metadata": {},
   "outputs": [],
   "source": [
    "def make_fake_df(df, shift, max_id):\n",
    "\n",
    "    df_fake = df.copy()\n",
    "    df_fake.loc[:, 'date'] += pd.offsets.DateOffset(years=shift)\n",
    "    df_fake.loc[:, 'id'] += df['id'].max() + 1\n",
    "    df_fake.loc[:, 'amount'] *= np.random.choice(range(11, 20, 1))/10.\n",
    "\n",
    "    df_fake.loc[:, 'client_id'] = np.where(df_fake['client_id'] < 100, df_fake['client_id'] + np.random.choice(range(1, 10, 1)), df['client_id'])\n",
    "    df_fake.loc[:, 'client_id'] = np.where(df_fake['client_id'] > 900, df_fake['client_id'] - np.random.choice(range(1, 10, 1)), df['client_id'])\n",
    "    df_fake.loc[:, 'client_id'] = np.where((df_fake['client_id'] >= 100) & (df_fake['client_id'] < 500) , df_fake['client_id'] + np.random.choice(range(1, 10, 1)), df['client_id'])\n",
    "    df_fake.loc[:, 'client_id'] = np.where((df_fake['client_id'] >= 500) & (df_fake['client_id'] <= 900) , df_fake['client_id'] - np.random.choice(range(1, 10, 1)), df['client_id'])\n",
    "\n",
    "    return df_fake"
   ]
  },
  {
   "cell_type": "code",
   "execution_count": 134,
   "metadata": {},
   "outputs": [],
   "source": [
    "df.loc[:, 'date'] -= pd.offsets.DateOffset(years=10)"
   ]
  },
  {
   "cell_type": "code",
   "execution_count": 135,
   "metadata": {},
   "outputs": [
    {
     "data": {
      "text/html": [
       "<div>\n",
       "<style scoped>\n",
       "    .dataframe tbody tr th:only-of-type {\n",
       "        vertical-align: middle;\n",
       "    }\n",
       "\n",
       "    .dataframe tbody tr th {\n",
       "        vertical-align: top;\n",
       "    }\n",
       "\n",
       "    .dataframe thead th {\n",
       "        text-align: right;\n",
       "    }\n",
       "</style>\n",
       "<table border=\"1\" class=\"dataframe\">\n",
       "  <thead>\n",
       "    <tr style=\"text-align: right;\">\n",
       "      <th></th>\n",
       "      <th>id</th>\n",
       "      <th>client_id</th>\n",
       "      <th>product_category</th>\n",
       "      <th>product_company</th>\n",
       "      <th>subtype</th>\n",
       "      <th>amount</th>\n",
       "      <th>date</th>\n",
       "      <th>transaction_type</th>\n",
       "    </tr>\n",
       "  </thead>\n",
       "  <tbody>\n",
       "    <tr>\n",
       "      <th>0</th>\n",
       "      <td>34478</td>\n",
       "      <td>37</td>\n",
       "      <td>29</td>\n",
       "      <td>NaN</td>\n",
       "      <td>Автоплатеж</td>\n",
       "      <td>1209</td>\n",
       "      <td>2010-01-01</td>\n",
       "      <td>Negative</td>\n",
       "    </tr>\n",
       "    <tr>\n",
       "      <th>1</th>\n",
       "      <td>65406</td>\n",
       "      <td>71</td>\n",
       "      <td>4</td>\n",
       "      <td>YouTube Music</td>\n",
       "      <td>Подписка</td>\n",
       "      <td>169</td>\n",
       "      <td>2010-01-01</td>\n",
       "      <td>Negative</td>\n",
       "    </tr>\n",
       "    <tr>\n",
       "      <th>2</th>\n",
       "      <td>82186</td>\n",
       "      <td>88</td>\n",
       "      <td>29</td>\n",
       "      <td>NaN</td>\n",
       "      <td>Автоплатеж</td>\n",
       "      <td>3711</td>\n",
       "      <td>2010-01-01</td>\n",
       "      <td>Negative</td>\n",
       "    </tr>\n",
       "    <tr>\n",
       "      <th>3</th>\n",
       "      <td>83113</td>\n",
       "      <td>89</td>\n",
       "      <td>29</td>\n",
       "      <td>NaN</td>\n",
       "      <td>Автоплатеж</td>\n",
       "      <td>6443</td>\n",
       "      <td>2010-01-01</td>\n",
       "      <td>Negative</td>\n",
       "    </tr>\n",
       "    <tr>\n",
       "      <th>4</th>\n",
       "      <td>131373</td>\n",
       "      <td>141</td>\n",
       "      <td>29</td>\n",
       "      <td>NaN</td>\n",
       "      <td>Автоплатеж</td>\n",
       "      <td>7319</td>\n",
       "      <td>2010-01-01</td>\n",
       "      <td>Negative</td>\n",
       "    </tr>\n",
       "  </tbody>\n",
       "</table>\n",
       "</div>"
      ],
      "text/plain": [
       "       id  client_id  product_category product_company     subtype  amount  \\\n",
       "0   34478         37                29             NaN  Автоплатеж    1209   \n",
       "1   65406         71                 4   YouTube Music    Подписка     169   \n",
       "2   82186         88                29             NaN  Автоплатеж    3711   \n",
       "3   83113         89                29             NaN  Автоплатеж    6443   \n",
       "4  131373        141                29             NaN  Автоплатеж    7319   \n",
       "\n",
       "        date transaction_type  \n",
       "0 2010-01-01         Negative  \n",
       "1 2010-01-01         Negative  \n",
       "2 2010-01-01         Negative  \n",
       "3 2010-01-01         Negative  \n",
       "4 2010-01-01         Negative  "
      ]
     },
     "execution_count": 135,
     "metadata": {},
     "output_type": "execute_result"
    }
   ],
   "source": [
    "df.head(5)"
   ]
  },
  {
   "cell_type": "code",
   "execution_count": 136,
   "metadata": {},
   "outputs": [
    {
     "data": {
      "text/html": [
       "<div>\n",
       "<style scoped>\n",
       "    .dataframe tbody tr th:only-of-type {\n",
       "        vertical-align: middle;\n",
       "    }\n",
       "\n",
       "    .dataframe tbody tr th {\n",
       "        vertical-align: top;\n",
       "    }\n",
       "\n",
       "    .dataframe thead th {\n",
       "        text-align: right;\n",
       "    }\n",
       "</style>\n",
       "<table border=\"1\" class=\"dataframe\">\n",
       "  <thead>\n",
       "    <tr style=\"text-align: right;\">\n",
       "      <th></th>\n",
       "      <th>id</th>\n",
       "      <th>client_id</th>\n",
       "      <th>product_category</th>\n",
       "      <th>product_company</th>\n",
       "      <th>subtype</th>\n",
       "      <th>amount</th>\n",
       "      <th>date</th>\n",
       "      <th>transaction_type</th>\n",
       "    </tr>\n",
       "  </thead>\n",
       "  <tbody>\n",
       "    <tr>\n",
       "      <th>0</th>\n",
       "      <td>34478</td>\n",
       "      <td>37</td>\n",
       "      <td>29</td>\n",
       "      <td>NaN</td>\n",
       "      <td>Автоплатеж</td>\n",
       "      <td>1209.0</td>\n",
       "      <td>2010-01-01 00:00:00</td>\n",
       "      <td>Negative</td>\n",
       "    </tr>\n",
       "    <tr>\n",
       "      <th>1</th>\n",
       "      <td>65406</td>\n",
       "      <td>71</td>\n",
       "      <td>4</td>\n",
       "      <td>YouTube Music</td>\n",
       "      <td>Подписка</td>\n",
       "      <td>169.0</td>\n",
       "      <td>2010-01-01 00:00:00</td>\n",
       "      <td>Negative</td>\n",
       "    </tr>\n",
       "    <tr>\n",
       "      <th>2</th>\n",
       "      <td>82186</td>\n",
       "      <td>88</td>\n",
       "      <td>29</td>\n",
       "      <td>NaN</td>\n",
       "      <td>Автоплатеж</td>\n",
       "      <td>3711.0</td>\n",
       "      <td>2010-01-01 00:00:00</td>\n",
       "      <td>Negative</td>\n",
       "    </tr>\n",
       "    <tr>\n",
       "      <th>3</th>\n",
       "      <td>83113</td>\n",
       "      <td>89</td>\n",
       "      <td>29</td>\n",
       "      <td>NaN</td>\n",
       "      <td>Автоплатеж</td>\n",
       "      <td>6443.0</td>\n",
       "      <td>2010-01-01 00:00:00</td>\n",
       "      <td>Negative</td>\n",
       "    </tr>\n",
       "    <tr>\n",
       "      <th>4</th>\n",
       "      <td>131373</td>\n",
       "      <td>141</td>\n",
       "      <td>29</td>\n",
       "      <td>NaN</td>\n",
       "      <td>Автоплатеж</td>\n",
       "      <td>7319.0</td>\n",
       "      <td>2010-01-01 00:00:00</td>\n",
       "      <td>Negative</td>\n",
       "    </tr>\n",
       "    <tr>\n",
       "      <th>...</th>\n",
       "      <td>...</td>\n",
       "      <td>...</td>\n",
       "      <td>...</td>\n",
       "      <td>...</td>\n",
       "      <td>...</td>\n",
       "      <td>...</td>\n",
       "      <td>...</td>\n",
       "      <td>...</td>\n",
       "    </tr>\n",
       "    <tr>\n",
       "      <th>12078750</th>\n",
       "      <td>940772</td>\n",
       "      <td>13</td>\n",
       "      <td>6</td>\n",
       "      <td>Стрелка</td>\n",
       "      <td>Покупка</td>\n",
       "      <td>90.0</td>\n",
       "      <td>2022-12-31 23:58:04</td>\n",
       "      <td>Negative</td>\n",
       "    </tr>\n",
       "    <tr>\n",
       "      <th>12078751</th>\n",
       "      <td>1108473</td>\n",
       "      <td>194</td>\n",
       "      <td>6</td>\n",
       "      <td>NaN</td>\n",
       "      <td>Покупка</td>\n",
       "      <td>97.2</td>\n",
       "      <td>2022-12-31 23:58:11</td>\n",
       "      <td>Negative</td>\n",
       "    </tr>\n",
       "    <tr>\n",
       "      <th>12078752</th>\n",
       "      <td>1440379</td>\n",
       "      <td>546</td>\n",
       "      <td>3</td>\n",
       "      <td>Ситимобил</td>\n",
       "      <td>Покупка</td>\n",
       "      <td>563.4</td>\n",
       "      <td>2022-12-31 23:58:13</td>\n",
       "      <td>Negative</td>\n",
       "    </tr>\n",
       "    <tr>\n",
       "      <th>12078753</th>\n",
       "      <td>1143928</td>\n",
       "      <td>232</td>\n",
       "      <td>6</td>\n",
       "      <td>NaN</td>\n",
       "      <td>Покупка</td>\n",
       "      <td>156.6</td>\n",
       "      <td>2022-12-31 23:59:03</td>\n",
       "      <td>Negative</td>\n",
       "    </tr>\n",
       "    <tr>\n",
       "      <th>12078754</th>\n",
       "      <td>1363908</td>\n",
       "      <td>469</td>\n",
       "      <td>2</td>\n",
       "      <td>Яндекс.Лавка</td>\n",
       "      <td>Покупка</td>\n",
       "      <td>7174.8</td>\n",
       "      <td>2022-12-31 23:59:12</td>\n",
       "      <td>Negative</td>\n",
       "    </tr>\n",
       "  </tbody>\n",
       "</table>\n",
       "<p>12078755 rows × 8 columns</p>\n",
       "</div>"
      ],
      "text/plain": [
       "               id  client_id  product_category product_company     subtype  \\\n",
       "0           34478         37                29             NaN  Автоплатеж   \n",
       "1           65406         71                 4   YouTube Music    Подписка   \n",
       "2           82186         88                29             NaN  Автоплатеж   \n",
       "3           83113         89                29             NaN  Автоплатеж   \n",
       "4          131373        141                29             NaN  Автоплатеж   \n",
       "...           ...        ...               ...             ...         ...   \n",
       "12078750   940772         13                 6         Стрелка     Покупка   \n",
       "12078751  1108473        194                 6             NaN     Покупка   \n",
       "12078752  1440379        546                 3       Ситимобил     Покупка   \n",
       "12078753  1143928        232                 6             NaN     Покупка   \n",
       "12078754  1363908        469                 2    Яндекс.Лавка     Покупка   \n",
       "\n",
       "          amount                date transaction_type  \n",
       "0         1209.0 2010-01-01 00:00:00         Negative  \n",
       "1          169.0 2010-01-01 00:00:00         Negative  \n",
       "2         3711.0 2010-01-01 00:00:00         Negative  \n",
       "3         6443.0 2010-01-01 00:00:00         Negative  \n",
       "4         7319.0 2010-01-01 00:00:00         Negative  \n",
       "...          ...                 ...              ...  \n",
       "12078750    90.0 2022-12-31 23:58:04         Negative  \n",
       "12078751    97.2 2022-12-31 23:58:11         Negative  \n",
       "12078752   563.4 2022-12-31 23:58:13         Negative  \n",
       "12078753   156.6 2022-12-31 23:59:03         Negative  \n",
       "12078754  7174.8 2022-12-31 23:59:12         Negative  \n",
       "\n",
       "[12078755 rows x 8 columns]"
      ]
     },
     "execution_count": 136,
     "metadata": {},
     "output_type": "execute_result"
    }
   ],
   "source": [
    "df_raw = df.copy()\n",
    "\n",
    "for i in range(1, 13):\n",
    "\n",
    "    max_id = df['id'].max()\n",
    "    df_fake = make_fake_df(df_raw, i, max_id)\n",
    "    df = pd.concat(objs=[df, df_fake])\n",
    "\n",
    "df.reset_index(drop=True)"
   ]
  },
  {
   "cell_type": "code",
   "execution_count": 137,
   "metadata": {},
   "outputs": [
    {
     "data": {
      "text/plain": [
       "Timestamp('2022-12-31 23:59:12')"
      ]
     },
     "execution_count": 137,
     "metadata": {},
     "output_type": "execute_result"
    }
   ],
   "source": [
    "df['date'].max()"
   ]
  },
  {
   "cell_type": "code",
   "execution_count": 138,
   "metadata": {},
   "outputs": [],
   "source": [
    "df.to_csv('../data/transactions_full.csv', index=None)"
   ]
  }
 ],
 "metadata": {
  "kernelspec": {
   "display_name": "Python 3.8.11 ('base')",
   "language": "python",
   "name": "python3"
  },
  "language_info": {
   "codemirror_mode": {
    "name": "ipython",
    "version": 3
   },
   "file_extension": ".py",
   "mimetype": "text/x-python",
   "name": "python",
   "nbconvert_exporter": "python",
   "pygments_lexer": "ipython3",
   "version": "3.8.11"
  },
  "orig_nbformat": 4,
  "vscode": {
   "interpreter": {
    "hash": "ad2bdc8ecc057115af97d19610ffacc2b4e99fae6737bb82f5d7fb13d2f2c186"
   }
  }
 },
 "nbformat": 4,
 "nbformat_minor": 2
}
